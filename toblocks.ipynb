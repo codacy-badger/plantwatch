{
 "cells": [
  {
   "cell_type": "code",
   "execution_count": null,
   "metadata": {
    "collapsed": true
   },
   "outputs": [],
   "source": [
    "import pandas as pd\n",
    "import numpy as np"
   ]
  },
  {
   "cell_type": "code",
   "execution_count": null,
   "metadata": {
    "collapsed": true
   },
   "outputs": [],
   "source": [
    "pl0 = pd.read_csv(\"Kraftwerksliste_CSV.csv\", error_bad_lines=False, engine=\"python\", encoding=\"latin1\", sep=\";\", skiprows=9)\n",
    "bm = pd.read_csv(\"block_plant_mapper.csv\", error_bad_lines=False, engine=\"python\", sep=\";\")"
   ]
  },
  {
   "cell_type": "code",
   "execution_count": null,
   "metadata": {
    "collapsed": true
   },
   "outputs": [],
   "source": [
    "#bm\n",
    "pl1 = pl0.loc[np.logical_or(pl0.Energieträger == \"Erdgas\", np.logical_or(pl0.Energieträger == \"Steinkohle\", pl0.Energieträger == \"Braunkohle\")), :]"
   ]
  },
  {
   "cell_type": "code",
   "execution_count": null,
   "metadata": {
    "collapsed": true
   },
   "outputs": [],
   "source": [
    "pl2 = pl1.rename(columns={ pl1.columns[0]: \"BlockID\", pl1.columns[3]: \"PLZ\", pl1.columns[4]: \"Ort\", pl1.columns[8]: \"Inbetriebnahme\", pl1.columns[9]: \"Status\", pl1.columns[16]: \"Nettoleistung\"})\n",
    "#pl3 = pl2.rename(columns={ pl1.columns[1]: \"BlockID\" })"
   ]
  },
  {
   "cell_type": "code",
   "execution_count": null,
   "metadata": {
    "collapsed": true
   },
   "outputs": [],
   "source": [
    "pl2['Nettoleistung'] = pl2['Nettoleistung'].str.replace('.','')\n",
    "pl2['Nettoleistung'] = pl2['Nettoleistung'].str.replace(',','.')\n",
    "#pl2['Nettoleistung'] = pl2['Nettoleistung'].str.replace('\\n','')\n",
    "#pl2['Nettoleistung'] = pl2[pd.to_numeric(pl2[\"Nettoleistung\"])]\n",
    "#pl2['Nettoleistung'] = pl2['Nettoleistung'].str.replace(';','.')"
   ]
  },
  {
   "cell_type": "code",
   "execution_count": null,
   "metadata": {
    "collapsed": true
   },
   "outputs": [],
   "source": [
    "#pl2[] = pl2[pd.to_numeric(pl2[\"Nettoleistung\"])]\n",
    "pl2['Nettoleistung'] = pl2['Nettoleistung'].apply(pd.to_numeric)"
   ]
  },
  {
   "cell_type": "code",
   "execution_count": null,
   "metadata": {
    "collapsed": true
   },
   "outputs": [],
   "source": [
    "cols = [10, 11,12,14,15,17,18,19]\n",
    "pl3 = pl2.drop(pl2.columns[cols],axis=1)"
   ]
  },
  {
   "cell_type": "code",
   "execution_count": null,
   "metadata": {
    "collapsed": true,
    "scrolled": false
   },
   "outputs": [],
   "source": [
    "pl3.rename(columns={ pl3.columns[10]: \"Energieträger\"}, inplace=True)"
   ]
  },
  {
   "cell_type": "code",
   "execution_count": null,
   "metadata": {
    "collapsed": true
   },
   "outputs": [],
   "source": [
    "pl4 = bm.merge(pl3, how=\"outer\", on=\"BlockID\")"
   ]
  },
  {
   "cell_type": "code",
   "execution_count": null,
   "metadata": {
    "collapsed": true
   },
   "outputs": [],
   "source": [
    "pl5 = pl4[pd.notnull(pl4['BlockID'])]\n",
    "#pl5 = pl4\n",
    "pl6 = pl5[pd.notnull(pl5['Nettoleistung'])]"
   ]
  },
  {
   "cell_type": "code",
   "execution_count": null,
   "metadata": {
    "collapsed": true
   },
   "outputs": [],
   "source": [
    "blocks = pl6.copy()\n",
    "stammdaten = pl6.copy()"
   ]
  },
  {
   "cell_type": "code",
   "execution_count": null,
   "metadata": {
    "collapsed": true
   },
   "outputs": [],
   "source": [
    "blocks.sort_values(\"Nettoleistung\", inplace=True, ascending=False)"
   ]
  },
  {
   "cell_type": "code",
   "execution_count": null,
   "metadata": {
    "collapsed": true
   },
   "outputs": [],
   "source": [
    "cols = [4,5,6,7,8]\n",
    "blocks.drop(blocks.columns[cols],axis=1, inplace=True)"
   ]
  },
  {
   "cell_type": "code",
   "execution_count": null,
   "metadata": {
    "scrolled": true
   },
   "outputs": [],
   "source": [
    "blocks.loc[blocks.Energieträger == 'Erdgas',]"
   ]
  },
  {
   "cell_type": "code",
   "execution_count": null,
   "metadata": {
    "collapsed": true
   },
   "outputs": [],
   "source": [
    "cols = [0,2,3,9,10,11,12]\n",
    "stammdaten.drop(stammdaten.columns[cols],axis=1, inplace=True)"
   ]
  },
  {
   "cell_type": "code",
   "execution_count": null,
   "metadata": {
    "collapsed": true
   },
   "outputs": [],
   "source": [
    "stammdaten.to_csv(\"stammdaten.csv\", index=False)"
   ]
  },
  {
   "cell_type": "code",
   "execution_count": null,
   "metadata": {
    "collapsed": true
   },
   "outputs": [],
   "source": [
    "blocks.to_csv(\"blocks_3.csv\", index=False)"
   ]
  },
  {
   "cell_type": "code",
   "execution_count": null,
   "metadata": {
    "collapsed": true
   },
   "outputs": [],
   "source": [
    "stammdaten.to_csv(\"stammdaten_nh.csv\", index=False, header=False)\n",
    "blocks.to_csv(\"blocks_nh.csv\", index=False, header=False)"
   ]
  }
 ],
 "metadata": {
  "kernelspec": {
   "display_name": "Python 3",
   "language": "python",
   "name": "python3"
  },
  "language_info": {
   "codemirror_mode": {
    "name": "ipython",
    "version": 3
   },
   "file_extension": ".py",
   "mimetype": "text/x-python",
   "name": "python",
   "nbconvert_exporter": "python",
   "pygments_lexer": "ipython3",
   "version": "3.6.3"
  }
 },
 "nbformat": 4,
 "nbformat_minor": 2
}
